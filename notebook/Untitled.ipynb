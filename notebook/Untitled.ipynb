{
 "cells": [
  {
   "cell_type": "code",
   "execution_count": 5,
   "id": "e75b3ce3",
   "metadata": {},
   "outputs": [],
   "source": [
    "import numpy as np\n",
    "import pandas as pd\n",
    "import seaborn as sns\n",
    "from matplotlib import gridspec\n",
    "from matplotlib import pyplot as plt\n",
    "import ipywidgets as widgets\n",
    "import plotly.express as px\n",
    "from ipywidgets import interact, interactive, fixed, interact_manual"
   ]
  },
  {
   "cell_type": "code",
   "execution_count": 6,
   "id": "5bbbe19d",
   "metadata": {},
   "outputs": [],
   "source": [
    "# loading data into memory\n",
    "\n",
    "data = pd.read_csv('../datasets/kc_house_data.csv')\n",
    "\n",
    "# Garantir que o formato date é um datetime\n",
    "\n",
    "data['date'] = pd.to_datetime( data['date'], format='%Y-%m-%d' )\n"
   ]
  },
  {
   "cell_type": "code",
   "execution_count": 7,
   "id": "3ed2dc4a",
   "metadata": {},
   "outputs": [],
   "source": [
    "# Prepare Data \n",
    "\n",
    "data['is_waterfront']= data['waterfront'].apply (lambda x : 'yes' if x == 1 else 'no')\n",
    "\n",
    "# Define level of prices \n",
    "\n",
    "data['level'] = data['price'].apply( lambda x : 'lvl_0' if x <= 321.950 else\n",
    "                                                'lvl_01'if (x >= 321950) & (x <= 450000) else\n",
    "                                                'lvl_01'if (x >= 450000) & (x <= 645000) else\n",
    "                                                'lvl_03'\n",
    "                                                                                                )"
   ]
  },
  {
   "cell_type": "code",
   "execution_count": 8,
   "id": "f0820235",
   "metadata": {},
   "outputs": [
    {
     "data": {
      "text/plain": [
       "Index(['id', 'date', 'price', 'bedrooms', 'bathrooms', 'sqft_living',\n",
       "       'sqft_lot', 'floors', 'waterfront', 'view', 'condition', 'grade',\n",
       "       'sqft_above', 'sqft_basement', 'yr_built', 'yr_renovated', 'zipcode',\n",
       "       'lat', 'long', 'sqft_living15', 'sqft_lot15', 'is_waterfront', 'level'],\n",
       "      dtype='object')"
      ]
     },
     "execution_count": 8,
     "metadata": {},
     "output_type": "execute_result"
    }
   ],
   "source": [
    "data.columns"
   ]
  },
  {
   "cell_type": "code",
   "execution_count": 9,
   "id": "f95b1bb4",
   "metadata": {},
   "outputs": [],
   "source": [
    "data['waterfront'] = data['waterfront'].apply( lambda x: 'yes' if x == 1 else 'no')\n",
    "                                            \n",
    " "
   ]
  },
  {
   "cell_type": "code",
   "execution_count": 10,
   "id": "bac4fd0c",
   "metadata": {},
   "outputs": [],
   "source": [
    "data['level'] = data['price'].apply( lambda x: \n",
    "                                                'lvl_0' if x <= 321.950 else\n",
    "                                                'lvl_01'if (x >= 321950) & (x <= 450000) else\n",
    "                                                'lvl_01'if (x >= 450000) & (x <= 645000) else\n",
    "                                                'lvl_03' ) \n",
    "\n",
    "\n",
    "                                                                           "
   ]
  },
  {
   "cell_type": "code",
   "execution_count": 11,
   "id": "de9a9dbe",
   "metadata": {},
   "outputs": [],
   "source": [
    "# Iteractive buttons\n",
    "price_limit = widgets.IntSlider(\n",
    "    value = 540000,\n",
    "    min = 75000,\n",
    "    max = 7700000,\n",
    "    step = 1,\n",
    "    description='Maximun Price',\n",
    "    disable=False,\n",
    "    style={'description_width': 'initial'}\n",
    ")\n",
    "# waterfront_bar = widgets.Dropdown(\n",
    "#     options = data['is_waterfront'].unique().tolist(),\n",
    "#     value = 'yes',\n",
    "#     description = 'Water View',\n",
    "#     disable=False\n",
    "# )\n",
    "# livingroom_limit = widgets.IntSlider(\n",
    "#     value = int( data['sqft_living'].mean() ),\n",
    "#     min = data['sqft_living'].min(),\n",
    "#     max = data['sqft_living'].max(),\n",
    "#     step = 1,\n",
    "#     description='Minimum Living Room Size',\n",
    "#     disable=False,\n",
    "#     style={'description_width': 'initial'}\n",
    "# )\n",
    "# bathroom_limit = widgets.IntSlider(\n",
    "#     value = int( data['bathrooms'].mean() ),\n",
    "#     min = data['bathrooms'].min(),\n",
    "#     max = data['bathrooms'].max(),\n",
    "#     step = 1,\n",
    "#     description='Minimum Bathroom Number',\n",
    "#     disable=False,\n",
    "#     style={'description_width': 'initial'}\n",
    "# )"
   ]
  },
  {
   "cell_type": "code",
   "execution_count": 12,
   "id": "53e0eec6",
   "metadata": {},
   "outputs": [],
   "source": [
    "def update_map( df, waterfront, limit, livingroom_limit, bathroom_limit,basement_limit, condition_limit, year_limit ):\n",
    "    houses = df[(df['price'] <= limit) &\n",
    "        (df['is_waterfront'] == waterfront) &\n",
    "        (df['sqft_living'] >= livingroom_limit) &\n",
    "        (df['bathrooms'] >= bathroom_limit) &\n",
    "        (df['sqft_basement'] >= basement_limit) &\n",
    "        (df['condition'] >= condition_limit) &\n",
    "        (df['yr_built'] >= year_limit )][['id', 'lat', 'long', 'price', 'level']]\n",
    "    \n",
    "    "
   ]
  },
  {
   "cell_type": "code",
   "execution_count": 13,
   "id": "a073ae31",
   "metadata": {},
   "outputs": [],
   "source": [
    "def update_map (df, price_limit):\n",
    "    \n",
    "    houses = df[df['price'] < price_limit ] [['id','lat','long','price','sqft_living']].copy()\n",
    "\n",
    "    # plot map\n",
    "    fig = px.scatter_mapbox(houses, \n",
    "                    lat=\"lat\", \n",
    "                    lon=\"long\",\n",
    "                    size='price',\n",
    "                    color_continuous_scale=px.colors.cyclical.IceFire, \n",
    "                    size_max=15, \n",
    "                    zoom=10,)\n",
    "\n",
    "    fig.update_layout( mapbox_style ='open-street-map')\n",
    "    fig.update_layout( height=600 , margin={ 'r':0, 'l': 0, 't':0, 'b': 0})\n",
    "\n",
    "    fig.show()"
   ]
  },
  {
   "cell_type": "code",
   "execution_count": 1,
   "id": "9f5a0f3c",
   "metadata": {},
   "outputs": [
    {
     "ename": "NameError",
     "evalue": "name 'widgets' is not defined",
     "output_type": "error",
     "traceback": [
      "\u001b[1;31m---------------------------------------------------------------------------\u001b[0m",
      "\u001b[1;31mNameError\u001b[0m                                 Traceback (most recent call last)",
      "\u001b[1;32m~\\AppData\\Local\\Temp\\ipykernel_23124\\3615362227.py\u001b[0m in \u001b[0;36m<module>\u001b[1;34m\u001b[0m\n\u001b[1;32m----> 1\u001b[1;33m \u001b[0mwidgets\u001b[0m\u001b[1;33m.\u001b[0m\u001b[0minteractive\u001b[0m \u001b[1;33m(\u001b[0m\u001b[0mupdate_map\u001b[0m\u001b[1;33m,\u001b[0m \u001b[0mdf\u001b[0m\u001b[1;33m=\u001b[0m\u001b[0mfixed\u001b[0m\u001b[1;33m(\u001b[0m\u001b[0mdata\u001b[0m\u001b[1;33m)\u001b[0m\u001b[1;33m,\u001b[0m \u001b[0mprice_limit\u001b[0m\u001b[1;33m=\u001b[0m\u001b[0mprice_limit\u001b[0m\u001b[1;33m)\u001b[0m\u001b[1;33m\u001b[0m\u001b[1;33m\u001b[0m\u001b[0m\n\u001b[0m",
      "\u001b[1;31mNameError\u001b[0m: name 'widgets' is not defined"
     ]
    }
   ],
   "source": [
    "widgets.interactive (update_map, df=fixed(data), price_limit=price_limit)"
   ]
  },
  {
   "cell_type": "code",
   "execution_count": null,
   "id": "0813b3d8",
   "metadata": {},
   "outputs": [],
   "source": []
  }
 ],
 "metadata": {
  "kernelspec": {
   "display_name": "base",
   "language": "python",
   "name": "python3"
  },
  "language_info": {
   "codemirror_mode": {
    "name": "ipython",
    "version": 3
   },
   "file_extension": ".py",
   "mimetype": "text/x-python",
   "name": "python",
   "nbconvert_exporter": "python",
   "pygments_lexer": "ipython3",
   "version": "3.9.13"
  },
  "vscode": {
   "interpreter": {
    "hash": "5c4e6a5823fe9a4cb437ffe73176ff7ae740c2c60e10fbc3628d85d4e9ab9fdc"
   }
  }
 },
 "nbformat": 4,
 "nbformat_minor": 5
}
